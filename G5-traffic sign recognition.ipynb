{
 "cells": [
  {
   "cell_type": "markdown",
   "metadata": {},
   "source": [
    "# G5 Project---Traffic sign recognition"
   ]
  },
  {
   "cell_type": "markdown",
   "metadata": {},
   "source": [
    "##### Yue Chang (872301)"
   ]
  },
  {
   "cell_type": "markdown",
   "metadata": {},
   "source": [
    "### Step 1. Preparation"
   ]
  },
  {
   "cell_type": "markdown",
   "metadata": {},
   "source": [
    "1. Download dataset of German Traffic Sign Recognition Benchmark(GTSRB).(http://benchmark.ini.rub.de/?section=gtsrb&subsection=dataset#Downloads)\n",
    "Which is a popular dataset for training and testing model of traffic sign recognition."
   ]
  },
  {
   "cell_type": "markdown",
   "metadata": {},
   "source": [
    "2. Import packages"
   ]
  },
  {
   "cell_type": "code",
   "execution_count": 2,
   "metadata": {},
   "outputs": [],
   "source": [
    "import numpy as np\n",
    "import matplotlib.pyplot as plt\n",
    "import os, glob\n",
    "import pickle\n",
    "import pandas as pd\n",
    "import csv\n",
    "import cv2\n",
    "import math\n",
    "import imutils\n",
    "from PIL import Image\n",
    "from skimage import exposure, feature, transform, color\n",
    "\n",
    "from sklearn.svm import SVC\n",
    "from sklearn.neural_network import MLPClassifier\n",
    "from sklearn.ensemble import RandomForestClassifier\n",
    "from sklearn.model_selection import cross_val_score, train_test_split\n",
    "from sklearn.metrics import classification_report\n",
    "from sklearn.externals import joblib\n",
    "\n",
    "import PIL\n",
    "from PIL import ImageFont\n",
    "from PIL import Image\n",
    "from PIL import ImageDraw\n",
    "\n",
    "import scipy\n",
    "import datetime\n",
    "import warnings\n",
    "warnings.filterwarnings('ignore')\n",
    "%matplotlib inline"
   ]
  },
  {
   "cell_type": "markdown",
   "metadata": {},
   "source": [
    "3. Define useful functions, referenced from GTSRB's example code.(http://benchmark.ini.rub.de/?section=gtsrb&subsection=dataset#Downloads) "
   ]
  },
  {
   "cell_type": "code",
   "execution_count": 3,
   "metadata": {},
   "outputs": [],
   "source": [
    "# helper functions \n",
    "\n",
    "# function for reading the images\n",
    "# arguments: path to the traffic sign data, for example '../../GTSRB/train/Final_Training/Images/'\n",
    "# returns: list of images, list of corresponding labels \n",
    "def readTrafficSigns(rootpath):\n",
    "    '''Reads traffic sign data for German Traffic Sign Recognition Benchmark.\n",
    "\n",
    "    Arguments: path to the traffic sign data, for example '../dataset/GTSRB/train/Final_Training/Images/'\n",
    "    Returns:   list of images, list of corresponding labels'''\n",
    "    images = [] # images\n",
    "    labels = [] # corresponding labels\n",
    "    # loop over all 42 classes\n",
    "    for c in range(0,43):\n",
    "        prefix = rootpath + '/' + format(c, '05d') + '/' # subdirectory for class\n",
    "        gtFile = open(prefix + 'GT-'+ format(c, '05d') + '.csv') # annotations file\n",
    "        gtReader = csv.reader(gtFile, delimiter=';') # csv parser for annotations file\n",
    "        next(gtReader) # skip header\n",
    "        # loop over all images in current annotations file\n",
    "        for row in gtReader:\n",
    "            images.append(plt.imread(prefix + row[0])) # the 1th column is the filename\n",
    "            labels.append(row[7]) # the 8th column is the label\n",
    "        gtFile.close()\n",
    "    return images, labels\n",
    "\n",
    "\n",
    "def format_time(seconds):\n",
    "        if seconds < 400:\n",
    "            s = float(seconds)\n",
    "            return \"%.1f seconds\" % (s,)\n",
    "        elif seconds < 4000:\n",
    "            m = seconds / 60.0\n",
    "            return \"%.2f minutes\" % (m,)\n",
    "        else:\n",
    "            h = seconds / 3600.0\n",
    "            return \"%.2f hours\" % (h,)"
   ]
  },
  {
   "cell_type": "markdown",
   "metadata": {},
   "source": [
    "4. load training images"
   ]
  },
  {
   "cell_type": "code",
   "execution_count": 4,
   "metadata": {},
   "outputs": [
    {
     "name": "stdout",
     "output_type": "stream",
     "text": [
      "[INFO] Training images and labels are loaded in variables ==> X,y\n",
      "[INFO] Number of training Images 39209 \n",
      "Number of Labels 39209\n"
     ]
    }
   ],
   "source": [
    "if os.path.isfile(\"trainImages.npy\") &  os.path.isfile(\"trainLabels.npy\") :\n",
    "    X = np.load(\"trainImages.npy\")\n",
    "    y = np.load(\"trainLabels.npy\")\n",
    "    print(\"[INFO] Training images and labels are loaded in variables ==> X,y\")\n",
    "    print(\"[INFO] Number of training Images {} \\nNumber of Labels {}\".format(len(X), len(y)))\n",
    "else:    \n",
    "    # training images and labels\n",
    "    trainImages, trainLabels = readTrafficSigns('C:\\AUS\\semester 5\\img processing\\project\\GTSRB_Final_Training_Images\\GTSRB\\Final_Training\\Images')\n",
    "    np.save(\"trainImages.npy\",trainImages)\n",
    "    np.save(\"trainLabels.npy\",trainLabels)\n",
    "    print(\"[INFO] training images and labels are read from the dataset directory\")\n",
    "    print(\"[INFO] training images saved to trainingImages.npy for further use\")\n",
    "    print(\"[INFO] training labels saved to trainingLabels.npy for further use\")\n",
    "    X = np.load(\"trainImages.npy\")\n",
    "    y = np.load(\"trainLabels.npy\")\n",
    "    print(\"[INFO] Training images and labels are loaded in variables ==> X,y\")\n",
    "    print(\"[INFO] Number of training Images {} \\nNumber of Labels {}\".format(len(X), len(y)))"
   ]
  },
  {
   "cell_type": "markdown",
   "metadata": {},
   "source": [
    "### Step 2. Cartesian to log-polar"
   ]
  },
  {
   "cell_type": "code",
   "execution_count": 5,
   "metadata": {},
   "outputs": [],
   "source": [
    "def cart_to_log_polar(img,T):\n",
    "    img = img.astype(np.float32)\n",
    "    h, w = img.shape[:2]\n",
    "    maxRadius = math.hypot(w/2,h/2)\n",
    "    m = w / math.log(maxRadius)\n",
    "    polar_img = cv2.logPolar(img,(w/2, h/2), m/T, cv2.WARP_FILL_OUTLIERS+ cv2.INTER_LINEAR)\n",
    "    return polar_img"
   ]
  },
  {
   "cell_type": "code",
   "execution_count": 6,
   "metadata": {},
   "outputs": [
    {
     "data": {
      "image/png": "[encoded data removed]",
      "text/plain": [
       "<Figure size 864x288 with 3 Axes>"
      ]
     },
     "metadata": {
      "needs_background": "light"
     },
     "output_type": "display_data"
    }
   ],
   "source": [
    "# example of cartesian and log-polar image\n",
    "n = np.random.randint(0,len(X))\n",
    "i1 = X[n]\n",
    "grayim = i1\n",
    "# grayim = color.rgb2gray(i1)\n",
    "gI1 = transform.resize(grayim,(40,40))\n",
    "gI2 = cart_to_log_polar(gI1,1)\n",
    "gI3 = cart_to_log_polar(gI1,0.8)\n",
    "fig, (ax1, ax2, ax3) = plt.subplots(1, 3, figsize=(12, 4), sharex=True, sharey=True)\n",
    "ax1.axis('off')\n",
    "ax1.imshow(gI1)\n",
    "ax1.set_title('Original Cartesian image')\n",
    "ax1.set_adjustable('box-forced')\n",
    "ax2.axis('off')\n",
    "ax2.imshow(gI2, cmap=plt.cm.gray)\n",
    "ax2.set_title('Log-polar transformed image')\n",
    "ax2.set_adjustable('box-forced')\n",
    "ax3.axis('off')\n",
    "ax3.imshow(gI3, cmap=plt.cm.gray)\n",
    "ax3.set_title('Post-processing of Log-polar image')\n",
    "ax3.set_adjustable('box-forced')\n",
    "plt.show()"
   ]
  },
  {
   "cell_type": "markdown",
   "metadata": {},
   "source": [
    "### Step 3. Features extraction"
   ]
  },
  {
   "cell_type": "markdown",
   "metadata": {},
   "source": [
    "#### 1. Histogram of Oriented Gradients (HOG)"
   ]
  },
  {
   "cell_type": "code",
   "execution_count": 7,
   "metadata": {},
   "outputs": [],
   "source": [
    "def extract_HOG(img):\n",
    "    (H, hog_img) = feature.hog(img, orientations=9, pixels_per_cell=(5,5),\n",
    "    cells_per_block=(2, 2), transform_sqrt=True, visualise=True)\n",
    "    hog_img = exposure.rescale_intensity(hog_img, out_range=(0, 255)).astype(\"uint8\")\n",
    "    return H,hog_img   "
   ]
  },
  {
   "cell_type": "code",
   "execution_count": 8,
   "metadata": {},
   "outputs": [
    {
     "data": {
      "image/png": "[encoded data removed]",
      "text/plain": [
       "<Figure size 576x288 with 2 Axes>"
      ]
     },
     "metadata": {
      "needs_background": "light"
     },
     "output_type": "display_data"
    },
    {
     "data": {
      "image/png": "[encoded data removed]",
      "text/plain": [
       "<Figure size 576x288 with 2 Axes>"
      ]
     },
     "metadata": {
      "needs_background": "light"
     },
     "output_type": "display_data"
    },
    {
     "name": "stdout",
     "output_type": "stream",
     "text": [
      "(1764,)\n",
      "(1764,)\n"
     ]
    }
   ],
   "source": [
    "img = gI1\n",
    "H1, hog_img = extract_HOG(img)\n",
    "fig, (ax1, ax2) = plt.subplots(1, 2, figsize=(8, 4), sharex=True, sharey=True)\n",
    "ax1.axis('off')\n",
    "ax1.imshow(img)\n",
    "ax1.set_title('Original Cartesian image')\n",
    "ax1.set_adjustable('box-forced')\n",
    "ax2.axis('off')\n",
    "ax2.imshow(hog_img, cmap=plt.cm.gray)\n",
    "ax2.set_title('HOG of original image')\n",
    "ax1.set_adjustable('box-forced')\n",
    "plt.show()\n",
    "\n",
    "log_img = gI3\n",
    "H2, log_hog_img = extract_HOG(log_img)\n",
    "fig, (ax1, ax2) = plt.subplots(1, 2, figsize=(8, 4), sharex=True, sharey=True)\n",
    "ax1.axis('off')\n",
    "ax1.imshow(log_img)\n",
    "ax1.set_title('Log-polar transformed image')\n",
    "ax1.set_adjustable('box-forced')\n",
    "ax2.axis('off')\n",
    "ax2.imshow(log_hog_img, cmap=plt.cm.gray)\n",
    "ax2.set_title('HOG of log-polar transformed image')\n",
    "ax1.set_adjustable('box-forced')\n",
    "plt.show()\n",
    "print(H1.shape)\n",
    "print(H2.shape)"
   ]
  },
  {
   "cell_type": "markdown",
   "metadata": {},
   "source": [
    "#### 2. Local Binary Pattern (LBP)"
   ]
  },
  {
   "cell_type": "code",
   "execution_count": 9,
   "metadata": {},
   "outputs": [],
   "source": [
    "def extract_LBP(img):\n",
    "    rows, cols = img.shape\n",
    "    radius = 2\n",
    "    n_points = radius * 8\n",
    "    lbp_sum=[]\n",
    "    rows_ = rows+(6-rows%6)\n",
    "    cols_ = cols+(6-cols%6)\n",
    "    I1 = np.zeros((rows_,cols_))\n",
    "    I1[0:rows,0:cols] = img\n",
    "    for i in range(6):\n",
    "        for j in range(6):\n",
    "            img_block = I1[7*i:7*(i+1),7*j:7*(j+1)]\n",
    "            lbp = feature.local_binary_pattern(img_block, n_points, radius, 'uniform')\n",
    "            lbp2 = lbp.astype(np.int32)\n",
    "            max_bins = 59\n",
    "            train_hist, _ = np.histogram(lbp2.ravel(), normed=True, bins=max_bins, range=(0, max_bins))\n",
    "            lbp_sum=lbp_sum + train_hist.tolist()\n",
    "    lbp_sum = np.array(lbp_sum)          \n",
    "    return lbp_sum"
   ]
  },
  {
   "cell_type": "code",
   "execution_count": 10,
   "metadata": {},
   "outputs": [
    {
     "name": "stdout",
     "output_type": "stream",
     "text": [
      "(2124,)\n"
     ]
    },
    {
     "data": {
      "image/png": "[encoded data removed]",
      "text/plain": [
       "<Figure size 576x288 with 2 Axes>"
      ]
     },
     "metadata": {
      "needs_background": "light"
     },
     "output_type": "display_data"
    }
   ],
   "source": [
    "gI1 = color.rgb2gray(gI1)\n",
    "gI1 = cart_to_log_polar(gI1,0.8)\n",
    "lbp = extract_LBP(gI1)\n",
    "print(lbp.shape)\n",
    "radius = 2\n",
    "n_points = radius * 8\n",
    "lbp2 = feature.local_binary_pattern(gI1, n_points, radius, 'uniform')\n",
    "fig, (ax1, ax2) = plt.subplots(1, 2, figsize=(8, 4), sharex=True, sharey=True)\n",
    "ax1.axis('off')\n",
    "ax1.imshow(log_img)\n",
    "ax1.set_title('Log-polar transformed image')\n",
    "ax1.set_adjustable('box-forced')\n",
    "ax2.axis('off')\n",
    "ax2.imshow(lbp2, cmap=plt.cm.gray)\n",
    "ax2.set_title('LBP of log-polar transformed image')\n",
    "ax1.set_adjustable('box-forced')\n",
    "plt.show()"
   ]
  },
  {
   "cell_type": "markdown",
   "metadata": {},
   "source": [
    "### Step 4. Prepare train & test data"
   ]
  },
  {
   "cell_type": "markdown",
   "metadata": {},
   "source": [
    "#### 1. HoG features' extraction"
   ]
  },
  {
   "cell_type": "code",
   "execution_count": 11,
   "metadata": {},
   "outputs": [
    {
     "name": "stdout",
     "output_type": "stream",
     "text": [
      "[INFO] HoGfeatures.npy does not found\n",
      "[INFO] processed 1000/39209\n",
      "[INFO] processed 2000/39209\n",
      "[INFO] processed 3000/39209\n",
      "[INFO] processed 4000/39209\n",
      "[INFO] processed 5000/39209\n",
      "[INFO] processed 6000/39209\n",
      "[INFO] processed 7000/39209\n",
      "[INFO] processed 8000/39209\n",
      "[INFO] processed 9000/39209\n",
      "[INFO] processed 10000/39209\n",
      "[INFO] processed 11000/39209\n",
      "[INFO] processed 12000/39209\n",
      "[INFO] processed 13000/39209\n",
      "[INFO] processed 14000/39209\n",
      "[INFO] processed 15000/39209\n",
      "[INFO] processed 16000/39209\n",
      "[INFO] processed 17000/39209\n",
      "[INFO] processed 18000/39209\n",
      "[INFO] processed 19000/39209\n",
      "[INFO] processed 20000/39209\n",
      "[INFO] processed 21000/39209\n",
      "[INFO] processed 22000/39209\n",
      "[INFO] processed 23000/39209\n",
      "[INFO] processed 24000/39209\n",
      "[INFO] processed 25000/39209\n",
      "[INFO] processed 26000/39209\n",
      "[INFO] processed 27000/39209\n",
      "[INFO] processed 28000/39209\n",
      "[INFO] processed 29000/39209\n",
      "[INFO] processed 30000/39209\n",
      "[INFO] processed 31000/39209\n",
      "[INFO] processed 32000/39209\n",
      "[INFO] processed 33000/39209\n",
      "[INFO] processed 34000/39209\n",
      "[INFO] processed 35000/39209\n",
      "[INFO] processed 36000/39209\n",
      "[INFO] processed 37000/39209\n",
      "[INFO] processed 38000/39209\n",
      "[INFO] processed 39000/39209\n",
      "[INFO] HoGfeatures.npy are saved\n",
      "total_time 14.38 minutes\n",
      "[INFO] loading from file ... \n",
      "HoG features are loaded from HoGfeatures.npy to variable ==> hogfeat\n"
     ]
    }
   ],
   "source": [
    "if os.path.isfile(\"HoGfeatures.npy\"):\n",
    "    print(\"[INFO] loading from file ... \")\n",
    "    hogfeat = np.load(\"HoGfeatures.npy\")    \n",
    "    print(\"HoG features are loaded from HoGfeatures.npy to variable ==> hogfeat\")\n",
    "else:\n",
    "    print(\"[INFO] HoGfeatures.npy does not found\")\n",
    "    start_time = datetime.datetime.now()\n",
    "    Hfeat = []\n",
    "    for i in range(0,len(X)):\n",
    "        # show an update every 1,000 images\n",
    "        if i > 0 and i % 1000 == 0:\n",
    "            print(\"[INFO] processed {}/{}\".format(i, len(X)))\n",
    "        I = X[i]\n",
    "        grayim = color.rgb2gray(I)\n",
    "        grayim = transform.resize(grayim,(40,40))\n",
    "        grayim = cart_to_log_polar(grayim,0.8)\n",
    "        (H_4x4, hogImage) = extract_HOG(grayim)\n",
    "        Hfeat.append(H_4x4)\n",
    "        # save the features using numpy save with .npy extention \n",
    "        # which reduced the storage space by 4times compared to pickle\n",
    "    np.save(\"HoGfeatures.npy\", Hfeat)\n",
    "    end_time = datetime.datetime.now()\n",
    "    dt = end_time - start_time\n",
    "    seconds = dt.total_seconds()\n",
    "    t = format_time(seconds)    \n",
    "    print(\"[INFO] HoGfeatures.npy are saved\")\n",
    "    print(\"total_time\",t)\n",
    "    print(\"[INFO] loading from file ... \")\n",
    "    hogfeat = np.load(\"HoGfeatures.npy\")    \n",
    "    print(\"HoG features are loaded from HoGfeatures.npy to variable ==> hogfeat\")"
   ]
  },
  {
   "cell_type": "markdown",
   "metadata": {},
   "source": [
    "#### 2. LBP features' extraction"
   ]
  },
  {
   "cell_type": "code",
   "execution_count": 11,
   "metadata": {},
   "outputs": [
    {
     "name": "stdout",
     "output_type": "stream",
     "text": [
      "[INFO] loading from file ... \n",
      "LBP features are loaded from LBPfeatures.npy to variable ==> lbpfeat\n"
     ]
    }
   ],
   "source": [
    "if os.path.isfile(\"LBPfeatures.npy\"):\n",
    "    print(\"[INFO] loading from file ... \")\n",
    "    lbpfeat = np.load(\"LBPfeatures.npy\")    \n",
    "    print(\"LBP features are loaded from LBPfeatures.npy to variable ==> lbpfeat\")\n",
    "else:\n",
    "    print(\"[INFO] LBPfeatures.npy does not found\")\n",
    "    start_time = datetime.datetime.now()\n",
    "    Lfeat = []\n",
    "    for i in range(0,len(X)):\n",
    "        # show an update every 1,000 images\n",
    "        if i > 0 and i % 1000 == 0:\n",
    "            print(\"[INFO] processed {}/{}\".format(i, len(X)))\n",
    "        I = X[i]\n",
    "        grayim = color.rgb2gray(I)\n",
    "        grayim = transform.resize(grayim,(40,40))\n",
    "        grayim = cart_to_log_polar(grayim,0.8)\n",
    "        lbp = extract_LBP(grayim)\n",
    "        Lfeat.append(lbp)\n",
    "        # save the features using numpy save with .npy extention \n",
    "        # which reduced the storage space by 4times compared to pickle\n",
    "    np.save(\"LBPfeatures.npy\", Lfeat)\n",
    "#     np.save(\"HoGvisualize-1.npy\", Hviz)\n",
    "    end_time = datetime.datetime.now()\n",
    "    dt = end_time - start_time\n",
    "    seconds = dt.total_seconds()\n",
    "    t = format_time(seconds)\n",
    "    print(\"[INFO] LBPfeatures.npy are saved\")\n",
    "    print(\"total_time\",t)\n",
    "    print(\"[INFO] loading from file ... \")\n",
    "    lbpfeat = np.load(\"LBPfeatures.npy\")    \n",
    "    print(\"LBP features are loaded from LBPfeatures.npy to variable ==> lbpfeat\")"
   ]
  },
  {
   "cell_type": "markdown",
   "metadata": {},
   "source": [
    "#### 3. Combine features' extraction"
   ]
  },
  {
   "cell_type": "code",
   "execution_count": 13,
   "metadata": {},
   "outputs": [
    {
     "name": "stdout",
     "output_type": "stream",
     "text": [
      "[INFO] loading from file ... \n",
      "Combine features are loaded from Combinefeatures.npy to variable ==> feat\n"
     ]
    }
   ],
   "source": [
    "if os.path.isfile(\"Combinefeatures.npy\"):\n",
    "    print(\"[INFO] loading from file ... \")\n",
    "    feat = np.load(\"Combinefeatures.npy\")\n",
    "    print(\"Combine features are loaded from Combinefeatures.npy to variable ==> feat\")\n",
    "else:\n",
    "    print(\"[INFO] Combinefeatures.npy does not found\")\n",
    "    start_time = datetime.datetime.now()\n",
    "    feat = []\n",
    "    for i in range(0,len(X)):\n",
    "        # show an update every 1,000 images\n",
    "        if i > 0 and i % 1000 == 0:\n",
    "            print(\"[INFO] processed {}/{}\".format(i, len(X)))\n",
    "        I = X[i]\n",
    "        grayim = color.rgb2gray(I)\n",
    "        grayim = transform.resize(grayim,(40,40))\n",
    "        grayim = cart_to_log_polar(grayim,0.8)\n",
    "        (H_4x4, hogImage) = extract_HOG(grayim)\n",
    "        lbp = extract_LBP(grayim)\n",
    "        features = np.hstack([H_4x4,lbp])\n",
    "        feat.append(features)\n",
    "        # save the features using numpy save with .npy extention \n",
    "        # which reduced the storage space by 4times compared to pickle\n",
    "    np.save(\"Combinefeatures.npy\", feat)\n",
    "    end_time = datetime.datetime.now()\n",
    "    dt = end_time - start_time\n",
    "    seconds = dt.total_seconds()\n",
    "    t = format_time(seconds)\n",
    "    print(\"[INFO] Combinefeatures.npy are saved\")\n",
    "    print(\"total_time\",t)\n",
    "    print(\"[INFO] loading from file ... \")\n",
    "    feat = np.load(\"Combinefeatures.npy\")\n",
    "    print(\"Combine features are loaded from Combinefeatures.npy to variable ==> feat\")"
   ]
  },
  {
   "cell_type": "markdown",
   "metadata": {},
   "source": [
    "#### 4. Data type conversion"
   ]
  },
  {
   "cell_type": "code",
   "execution_count": 14,
   "metadata": {},
   "outputs": [
    {
     "name": "stdout",
     "output_type": "stream",
     "text": [
      "(39209, 1764) (39209,)\n",
      "[ 0.  1.  2.  3.  4.  5.  6.  7.  8.  9. 10. 11. 12. 13. 14. 15. 16. 17.\n",
      " 18. 19. 20. 21. 22. 23. 24. 25. 26. 27. 28. 29. 30. 31. 32. 33. 34. 35.\n",
      " 36. 37. 38. 39. 40. 41. 42.]\n"
     ]
    }
   ],
   "source": [
    "Xhog = np.array(hogfeat).astype(\"float\")\n",
    "y = y.astype(\"float\")\n",
    "print(Xhog.shape,y.shape)\n",
    "print(np.unique(y))"
   ]
  },
  {
   "cell_type": "code",
   "execution_count": 15,
   "metadata": {},
   "outputs": [
    {
     "name": "stdout",
     "output_type": "stream",
     "text": [
      "(39209, 2124) (39209,)\n",
      "[ 0.  1.  2.  3.  4.  5.  6.  7.  8.  9. 10. 11. 12. 13. 14. 15. 16. 17.\n",
      " 18. 19. 20. 21. 22. 23. 24. 25. 26. 27. 28. 29. 30. 31. 32. 33. 34. 35.\n",
      " 36. 37. 38. 39. 40. 41. 42.]\n"
     ]
    }
   ],
   "source": [
    "Xlbp = np.array(lbpfeat).astype(\"float\")\n",
    "y = y.astype(\"float\")\n",
    "print(Xlbp.shape,y.shape)\n",
    "print(np.unique(y))"
   ]
  },
  {
   "cell_type": "code",
   "execution_count": 14,
   "metadata": {},
   "outputs": [
    {
     "name": "stdout",
     "output_type": "stream",
     "text": [
      "(39209, 3888) (39209,)\n",
      "[ 0.  1.  2.  3.  4.  5.  6.  7.  8.  9. 10. 11. 12. 13. 14. 15. 16. 17.\n",
      " 18. 19. 20. 21. 22. 23. 24. 25. 26. 27. 28. 29. 30. 31. 32. 33. 34. 35.\n",
      " 36. 37. 38. 39. 40. 41. 42.]\n"
     ]
    }
   ],
   "source": [
    "Xcombine = np.array(feat).astype(\"float\")\n",
    "y = y.astype(\"float\")\n",
    "print(Xcombine.shape,y.shape)\n",
    "print(np.unique(y))"
   ]
  },
  {
   "cell_type": "markdown",
   "metadata": {},
   "source": [
    "#### 5. Split train, test and validation data"
   ]
  },
  {
   "cell_type": "code",
   "execution_count": 56,
   "metadata": {},
   "outputs": [
    {
     "name": "stdout",
     "output_type": "stream",
     "text": [
      "-----------For HoG feature----------\n",
      "training data points: 26465\n",
      "validation data points: 2941\n",
      "testing data points: 9803\n"
     ]
    }
   ],
   "source": [
    "features = Xhog\n",
    "labels = y\n",
    "\n",
    "# take the  data and construct the training and testing split, using 75% of the\n",
    "# data for training and 25% for testing\n",
    "(trainData_hog, testData_hog, trainLabels_hog, testLabels_hog) = train_test_split(features,\n",
    "    labels, test_size=0.25, random_state=42)\n",
    " \n",
    "# now, let's take 10% of the training data and use that for validation\n",
    "(trainData_hog, valData_hog, trainLabels_hog, valLabels_hog) = train_test_split(trainData_hog, trainLabels_hog,\n",
    "    test_size=0.1, random_state=84)\n",
    " \n",
    "# show the sizes of each data split\n",
    "print(\"-----------For HoG feature----------\")\n",
    "print(\"training data points: {}\".format(len(trainLabels_hog)))\n",
    "print(\"validation data points: {}\".format(len(valLabels_hog)))\n",
    "print(\"testing data points: {}\".format(len(testLabels_hog)))"
   ]
  },
  {
   "cell_type": "code",
   "execution_count": 53,
   "metadata": {},
   "outputs": [
    {
     "name": "stdout",
     "output_type": "stream",
     "text": [
      "-----------For LBP feature----------\n",
      "training data points: 26465\n",
      "validation data points: 2941\n",
      "testing data points: 9803\n"
     ]
    }
   ],
   "source": [
    "features = Xlbp\n",
    "labels = y\n",
    "\n",
    "# take the  data and construct the training and testing split, using 75% of the\n",
    "# data for training and 25% for testing\n",
    "(trainData_lbp, testData_lbp, trainLabels_lbp, testLabels_lbp) = train_test_split(features,\n",
    "    labels, test_size=0.25, random_state=42)\n",
    " \n",
    "# now, let's take 10% of the training data and use that for validation\n",
    "(trainData_lbp, valData_lbp, trainLabels_lbp, valLabels_lbp) = train_test_split(trainData_lbp, trainLabels_lbp,\n",
    "    test_size=0.1, random_state=84)\n",
    " \n",
    "# show the sizes of each data split\n",
    "print(\"-----------For LBP feature----------\")\n",
    "print(\"training data points: {}\".format(len(trainLabels_lbp)))\n",
    "print(\"validation data points: {}\".format(len(valLabels_lbp)))\n",
    "print(\"testing data points: {}\".format(len(testLabels_lbp)))"
   ]
  },
  {
   "cell_type": "code",
   "execution_count": 15,
   "metadata": {},
   "outputs": [
    {
     "name": "stdout",
     "output_type": "stream",
     "text": [
      "-----------For Combine feature----------\n",
      "training data points: 26465\n",
      "validation data points: 2941\n",
      "testing data points: 9803\n"
     ]
    }
   ],
   "source": [
    "features = Xcombine\n",
    "labels = y\n",
    "\n",
    "# take the  data and construct the training and testing split, using 75% of the\n",
    "# data for training and 25% for testing\n",
    "(trainData_combine, testData_combine, trainLabels_combine, testLabels_combine) = train_test_split(features,\n",
    "    labels, test_size=0.25, random_state=42)\n",
    " \n",
    "# now, let's take 10% of the training data and use that for validation\n",
    "(trainData_combine, valData_combine, trainLabels_combine, valLabels_combine) = train_test_split(trainData_combine, trainLabels_combine,\n",
    "    test_size=0.1, random_state=84)\n",
    " \n",
    "# show the sizes of each data split\n",
    "print(\"-----------For Combine feature----------\")\n",
    "print(\"training data points: {}\".format(len(trainLabels_combine)))\n",
    "print(\"validation data points: {}\".format(len(valLabels_combine)))\n",
    "print(\"testing data points: {}\".format(len(testLabels_combine)))"
   ]
  },
  {
   "cell_type": "markdown",
   "metadata": {},
   "source": [
    "### Step 5. Training classifiers"
   ]
  },
  {
   "cell_type": "markdown",
   "metadata": {},
   "source": [
    "#### 1. SVM"
   ]
  },
  {
   "cell_type": "markdown",
   "metadata": {},
   "source": [
    "1. SVM for HoG"
   ]
  },
  {
   "cell_type": "code",
   "execution_count": 57,
   "metadata": {},
   "outputs": [
    {
     "name": "stdout",
     "output_type": "stream",
     "text": [
      "[INFO] loading classifier: SVC trained on HoG features...\n",
      "[INFO] Classifer is loaded as instance ::svc::\n"
     ]
    }
   ],
   "source": [
    "if os.path.isfile(\"clf_svc_hog-928_another_log.pkl\"):\n",
    "    print(\"[INFO] loading classifier: SVC trained on HoG features...\")\n",
    "    svc_hog = joblib.load(\"clf_svc_hog-928_another_log.pkl\")\n",
    "    print(\"[INFO] Classifer is loaded as instance ::svc::\")\n",
    "else:\n",
    "    print(\"[INFO] pre-trained classifier not found. \\n Training Classifier SVC\")\n",
    "    start_time = datetime.datetime.now()\n",
    "    svc_hog = SVC(C=7.0, kernel='rbf',gamma=0.09)\n",
    "    svc_hog.fit(trainData_hog,trainLabels_hog)\n",
    "    print(\"[INFO] Succefully trained the HoG classsifier. \\n Saving the classifier for further use\")\n",
    "    joblib.dump(svc_hog, 'clf_svc_hog-928_another_log.pkl')\n",
    "    end_time = datetime.datetime.now()\n",
    "    dt = end_time - start_time\n",
    "    seconds = dt.total_seconds()\n",
    "    t = format_time(seconds)\n",
    "    print(\"[INFO] Classifier Saved\")\n",
    "    print(\"total_time\",t)\n",
    "    print(\"[INFO] loading classifier: SVC trained on HoG features...\")\n",
    "    svc_hog = joblib.load(\"clf_svc_hog-928_another_log.pkl\")\n",
    "    print(\"[INFO] Classifer is loaded as instance ::svc::\")"
   ]
  },
  {
   "cell_type": "markdown",
   "metadata": {},
   "source": [
    "2. SVM for LBP"
   ]
  },
  {
   "cell_type": "code",
   "execution_count": 54,
   "metadata": {},
   "outputs": [
    {
     "name": "stdout",
     "output_type": "stream",
     "text": [
      "[INFO] pre-trained classifier not found. \n",
      " Training Classifier SVC\n",
      "[INFO] Succefully trained the LBP classsifier. \n",
      " Saving the classifier for further use\n",
      "[INFO] Classifier Saved\n",
      "total_time 10.42 minutes\n",
      "[INFO] loading classifier: SVC trained on LBP features...\n",
      "[INFO] Classifer is loaded as instance ::svc::\n"
     ]
    }
   ],
   "source": [
    "if os.path.isfile(\"clf_svc_lbp.pkl\"):\n",
    "    print(\"[INFO] loading classifier: SVC trained on LBP features...\")\n",
    "    svc_lbp = joblib.load(\"clf_svc_lbp.pkl\")\n",
    "    print(\"[INFO] Classifer is loaded as instance ::svc::\")\n",
    "else:\n",
    "    print(\"[INFO] pre-trained classifier not found. \\n Training Classifier SVC\")\n",
    "    start_time = datetime.datetime.now()\n",
    "    svc_lbp = SVC(C=7.0, kernel='rbf',gamma=0.09)\n",
    "    svc_lbp.fit(trainData_lbp,trainLabels_lbp)\n",
    "    print(\"[INFO] Succefully trained the LBP classsifier. \\n Saving the classifier for further use\")\n",
    "    joblib.dump(svc_lbp, 'clf_svc_lbp.pkl')\n",
    "    end_time = datetime.datetime.now()\n",
    "    dt = end_time - start_time\n",
    "    seconds = dt.total_seconds()\n",
    "    t = format_time(seconds)\n",
    "    print(\"[INFO] Classifier Saved\")\n",
    "    print(\"total_time\",t)\n",
    "    print(\"[INFO] loading classifier: SVC trained on LBP features...\")\n",
    "    svc_lbp = joblib.load(\"clf_svc_lbp.pkl\")\n",
    "    print(\"[INFO] Classifer is loaded as instance ::svc::\")"
   ]
  },
  {
   "cell_type": "markdown",
   "metadata": {},
   "source": [
    "3. SVM for combine features"
   ]
  },
  {
   "cell_type": "code",
   "execution_count": 16,
   "metadata": {},
   "outputs": [
    {
     "name": "stdout",
     "output_type": "stream",
     "text": [
      "[INFO] loading classifier: SVC trained on Combine features...\n",
      "[INFO] Classifer is loaded as instance ::svc::\n"
     ]
    }
   ],
   "source": [
    "if os.path.isfile(\"clf_svc_combine.pkl\"):\n",
    "    print(\"[INFO] loading classifier: SVC trained on Combine features...\")\n",
    "    svc_combine = joblib.load(\"clf_svc_combine.pkl\")\n",
    "    print(\"[INFO] Classifer is loaded as instance ::svc::\")\n",
    "else:\n",
    "    print(\"[INFO] pre-trained classifier not found. \\n Training Classifier SVC\")\n",
    "    start_time = datetime.datetime.now()\n",
    "    svc_combine = SVC(C=7.0, kernel='rbf',gamma=0.09)\n",
    "    svc_combine.fit(trainData_combine,trainLabels_combine)\n",
    "    print(\"[INFO] Succefully trained the Combine classsifier. \\n Saving the classifier for further use\")\n",
    "    joblib.dump(svc_combine, 'clf_svc_combine.pkl')\n",
    "    end_time = datetime.datetime.now()\n",
    "    dt = end_time - start_time\n",
    "    seconds = dt.total_seconds()\n",
    "    t = format_time(seconds)\n",
    "    print(\"[INFO] Classifier Saved\")\n",
    "    print(\"total_time\",t)\n",
    "    print(\"[INFO] loading classifier: SVC trained on Combine features...\")\n",
    "    svc_combine = joblib.load(\"clf_svc_combine.pkl\")\n",
    "    print(\"[INFO] Classifer is loaded as instance ::svc::\")"
   ]
  },
  {
   "cell_type": "markdown",
   "metadata": {},
   "source": [
    "#### 2. Multi-layer perceptron"
   ]
  },
  {
   "cell_type": "markdown",
   "metadata": {},
   "source": [
    "1. MLP for HoG"
   ]
  },
  {
   "cell_type": "code",
   "execution_count": 75,
   "metadata": {},
   "outputs": [
    {
     "name": "stdout",
     "output_type": "stream",
     "text": [
      "[INFO] pre-trained classifier not found. \n",
      " Training Classifier \\MLP = 200\n",
      "[INFO] Succefully trained the classsifier. \n",
      " Saving the classifier for further use\n",
      "[INFO] Classifier Saved\n",
      "total_time 9.59 minutes\n",
      "[INFO] loading classifier: MLP =200 trained on HoG features...\n",
      "[INFO] Classifer is loaded as instance ::mlp::\n"
     ]
    }
   ],
   "source": [
    "# MLP\n",
    "if os.path.isfile(\"clf_mlp_hog_700.pkl\"):\n",
    "    print(\"[INFO] loading classifier: MLP =200 trained on HoG features...\")\n",
    "    mlp_hog= joblib.load(\"clf_mlp_hog_700.pkl\")\n",
    "    print(\"[INFO] Classifer is loaded as instance ::mlp::\")\n",
    "else:\n",
    "    print(\"[INFO] pre-trained classifier not found. \\n Training Classifier \\MLP = 200\")\n",
    "    start_time = datetime.datetime.now()\n",
    "    mlp_hog = MLPClassifier(hidden_layer_sizes=(700,))\n",
    "    mlp_hog.fit(trainData_hog,trainLabels_hog)\n",
    "    print(\"[INFO] Succefully trained the classsifier. \\n Saving the classifier for further use\")\n",
    "    joblib.dump(mlp_hog, 'clf_mlp_hog_700.pkl')\n",
    "    end_time = datetime.datetime.now()\n",
    "    dt = end_time - start_time\n",
    "    seconds = dt.total_seconds()\n",
    "    t = format_time(seconds)\n",
    "    print(\"[INFO] Classifier Saved\")\n",
    "    print(\"total_time\",t)\n",
    "    print(\"[INFO] loading classifier: MLP =200 trained on HoG features...\")\n",
    "    mlp_hog= joblib.load(\"clf_mlp_hog_700.pkl\")\n",
    "    print(\"[INFO] Classifer is loaded as instance ::mlp::\")"
   ]
  },
  {
   "cell_type": "markdown",
   "metadata": {},
   "source": [
    "2. MLP for LBP"
   ]
  },
  {
   "cell_type": "code",
   "execution_count": 84,
   "metadata": {},
   "outputs": [
    {
     "name": "stdout",
     "output_type": "stream",
     "text": [
      "[INFO] loading classifier: MLP =200 trained on LBP features...\n",
      "[INFO] Classifer is loaded as instance ::mlp::\n"
     ]
    }
   ],
   "source": [
    "# MLP\n",
    "if os.path.isfile(\"clf_mlp_lbp_700.pkl\"):\n",
    "    print(\"[INFO] loading classifier: MLP =200 trained on LBP features...\")\n",
    "    mlp_lbp= joblib.load(\"clf_mlp_lbp_700.pkl\")\n",
    "    print(\"[INFO] Classifer is loaded as instance ::mlp::\")\n",
    "else:\n",
    "    print(\"[INFO] pre-trained classifier not found. \\n Training Classifier \\MLP = 200\")\n",
    "    start_time = datetime.datetime.now()\n",
    "    mlp_lbp = MLPClassifier(hidden_layer_sizes=(700,))\n",
    "    \n",
    "    mlp_lbp.fit(trainData_lbp,trainLabels_lbp)\n",
    "    print(\"[INFO] Succefully trained the classsifier. \\n Saving the classifier for further use\")\n",
    "    joblib.dump(mlp_lbp, 'clf_mlp_lbp_700.pkl') \n",
    "    end_time = datetime.datetime.now()\n",
    "    dt = end_time - start_time\n",
    "    seconds = dt.total_seconds()\n",
    "    t = format_time(seconds)\n",
    "    print(\"[INFO] Classifier Saved\")\n",
    "    print(\"total_time\",t)\n",
    "    print(\"[INFO] loading classifier: MLP =200 trained on LBP features...\")\n",
    "    mlp_lbp= joblib.load(\"clf_mlp_lbp_700.pkl\")\n",
    "    print(\"[INFO] Classifer is loaded as instance ::mlp::\")"
   ]
  },
  {
   "cell_type": "markdown",
   "metadata": {},
   "source": [
    "3. MLP for combine features"
   ]
  },
  {
   "cell_type": "code",
   "execution_count": 17,
   "metadata": {},
   "outputs": [
    {
     "name": "stdout",
     "output_type": "stream",
     "text": [
      "[INFO] loading classifier: MLP trained on Combine features...\n",
      "[INFO] Classifer is loaded as instance ::mlp::\n"
     ]
    }
   ],
   "source": [
    "# MLP\n",
    "if os.path.isfile(\"clf_mlp_combine.pkl\"):\n",
    "    print(\"[INFO] loading classifier: MLP trained on Combine features...\")\n",
    "    mlp_combine= joblib.load(\"clf_mlp_combine.pkl\")\n",
    "    print(\"[INFO] Classifer is loaded as instance ::mlp::\")\n",
    "else:\n",
    "    print(\"[INFO] pre-trained classifier not found. \\n Training Classifier \\MLP\")\n",
    "    start_time = datetime.datetime.now()\n",
    "    mlp_combine = MLPClassifier(hidden_layer_sizes=(700,))\n",
    "    mlp_combine.fit(trainData_combine,trainLabels_combine)\n",
    "    print(\"[INFO] Succefully trained the classsifier. \\n Saving the classifier for further use\")\n",
    "    joblib.dump(mlp_combine, 'clf_mlp_combine.pkl') \n",
    "    end_time = datetime.datetime.now()\n",
    "    dt = end_time - start_time\n",
    "    seconds = dt.total_seconds()\n",
    "    t = format_time(seconds)\n",
    "    print(\"[INFO] Classifier Saved\")\n",
    "    print(\"total_time\",t)\n",
    "    print(\"[INFO] loading classifier: MLP trained on LBP features...\")\n",
    "    mlp_combine= joblib.load(\"clf_mlp_combine.pkl\")\n",
    "    print(\"[INFO] Classifer is loaded as instance ::mlp::\")"
   ]
  },
  {
   "cell_type": "markdown",
   "metadata": {},
   "source": [
    "### Step 6. Classifiers' performance analysis"
   ]
  },
  {
   "cell_type": "markdown",
   "metadata": {},
   "source": [
    "#### 1. SVM"
   ]
  },
  {
   "cell_type": "markdown",
   "metadata": {},
   "source": [
    "1. Analysis for HoG"
   ]
  },
  {
   "cell_type": "code",
   "execution_count": 58,
   "metadata": {},
   "outputs": [
    {
     "name": "stdout",
     "output_type": "stream",
     "text": [
      "accuracy on training data: 0.9999244284904591\n"
     ]
    }
   ],
   "source": [
    "print(\"accuracy on training data: {}\".format(svc_hog.score(trainData_hog,trainLabels_hog)))"
   ]
  },
  {
   "cell_type": "code",
   "execution_count": 59,
   "metadata": {},
   "outputs": [
    {
     "name": "stdout",
     "output_type": "stream",
     "text": [
      "accuracy on test data: 0.9835764561868816\n"
     ]
    }
   ],
   "source": [
    "print(\"accuracy on test data: {}\".format(svc_hog.score(testData_hog,testLabels_hog)))"
   ]
  },
  {
   "cell_type": "code",
   "execution_count": 60,
   "metadata": {},
   "outputs": [
    {
     "name": "stdout",
     "output_type": "stream",
     "text": [
      "accuracy on validation data: 0.9802788167290037\n"
     ]
    }
   ],
   "source": [
    "print(\"accuracy on validation data: {}\".format(svc_hog.score(valData_hog,valLabels_hog)))"
   ]
  },
  {
   "cell_type": "code",
   "execution_count": null,
   "metadata": {},
   "outputs": [],
   "source": [
    "cv_score_hog = cross_val_score(svc_hog,testData_hog,testLabels_hog,cv=5)\n",
    "print(\"mean cross-validation score: {}\".format(np.mean(cv_score_hog)))"
   ]
  },
  {
   "cell_type": "markdown",
   "metadata": {},
   "source": [
    "2. Analysis for LBP"
   ]
  },
  {
   "cell_type": "code",
   "execution_count": null,
   "metadata": {},
   "outputs": [],
   "source": [
    "print(\"accuracy on training data: {}\".format(svc_lbp.score(trainData_lbp,trainLabels_lbp)))"
   ]
  },
  {
   "cell_type": "code",
   "execution_count": null,
   "metadata": {},
   "outputs": [],
   "source": [
    "print(\"accuracy on test data: {}\".format(svc_lbp.score(testData_lbp,testLabels_lbp)))"
   ]
  },
  {
   "cell_type": "code",
   "execution_count": null,
   "metadata": {},
   "outputs": [],
   "source": [
    "print(\"accuracy on validation data: {}\".format(svc_lbp.score(valData_lbp,valLabels_lbp)))"
   ]
  },
  {
   "cell_type": "code",
   "execution_count": null,
   "metadata": {},
   "outputs": [],
   "source": [
    "cv_score_lbp = cross_val_score(svc_lbp,testData_lbp,testLabels_lbp,cv=5)\n",
    "print(\"mean cross-validation score: {}\".format(np.mean(cv_score_lbp)))"
   ]
  },
  {
   "cell_type": "markdown",
   "metadata": {},
   "source": [
    "3. Analysis for combine features"
   ]
  },
  {
   "cell_type": "code",
   "execution_count": 23,
   "metadata": {},
   "outputs": [
    {
     "name": "stdout",
     "output_type": "stream",
     "text": [
      "accuracy on training data: 1.0\n"
     ]
    }
   ],
   "source": [
    "print(\"accuracy on training data: {}\".format(svc_combine.score(trainData_combine,trainLabels_combine)))"
   ]
  },
  {
   "cell_type": "code",
   "execution_count": 24,
   "metadata": {},
   "outputs": [
    {
     "name": "stdout",
     "output_type": "stream",
     "text": [
      "accuracy on test data: 0.9860246863205141\n"
     ]
    }
   ],
   "source": [
    "print(\"accuracy on test data: {}\".format(svc_combine.score(testData_combine,testLabels_combine)))"
   ]
  },
  {
   "cell_type": "code",
   "execution_count": 25,
   "metadata": {},
   "outputs": [
    {
     "name": "stdout",
     "output_type": "stream",
     "text": [
      "accuracy on validation data: 0.9860591635498129\n"
     ]
    }
   ],
   "source": [
    "print(\"accuracy on validation data: {}\".format(svc_combine.score(valData_combine,valLabels_combine)))"
   ]
  },
  {
   "cell_type": "code",
   "execution_count": 26,
   "metadata": {},
   "outputs": [
    {
     "name": "stdout",
     "output_type": "stream",
     "text": [
      "mean cross-validation score: 0.9710306675532732\n"
     ]
    }
   ],
   "source": [
    "cv_score_combine = cross_val_score(svc_combine,testData_combine,testLabels_combine,cv=5)\n",
    "print(\"mean cross-validation score: {}\".format(np.mean(cv_score_combine)))"
   ]
  },
  {
   "cell_type": "markdown",
   "metadata": {},
   "source": [
    "#### 2. MLP"
   ]
  },
  {
   "cell_type": "markdown",
   "metadata": {},
   "source": [
    "1. Analysis for HoG"
   ]
  },
  {
   "cell_type": "code",
   "execution_count": 76,
   "metadata": {},
   "outputs": [
    {
     "name": "stdout",
     "output_type": "stream",
     "text": [
      "accuracy on training data: 1.0\n"
     ]
    }
   ],
   "source": [
    "print(\"accuracy on training data: {}\".format(mlp_hog.score(trainData_hog,trainLabels_hog)))"
   ]
  },
  {
   "cell_type": "code",
   "execution_count": 77,
   "metadata": {},
   "outputs": [
    {
     "name": "stdout",
     "output_type": "stream",
     "text": [
      "accuracy on test data: 0.9774558808528002\n"
     ]
    }
   ],
   "source": [
    "print(\"accuracy on test data: {}\".format(mlp_hog.score(testData_hog,testLabels_hog)))"
   ]
  },
  {
   "cell_type": "code",
   "execution_count": 78,
   "metadata": {},
   "outputs": [
    {
     "name": "stdout",
     "output_type": "stream",
     "text": [
      "accuracy on validation data: 0.9731383883032982\n"
     ]
    }
   ],
   "source": [
    "print(\"accuracy on validation data: {}\".format(mlp_hog.score(valData_hog,valLabels_hog)))"
   ]
  },
  {
   "cell_type": "code",
   "execution_count": 88,
   "metadata": {},
   "outputs": [
    {
     "name": "stdout",
     "output_type": "stream",
     "text": [
      "mean cross-validation score: 0.9571506257825904\n"
     ]
    }
   ],
   "source": [
    "cv_score_hog = cross_val_score(mlp_hog,testData_hog,testLabels_hog,cv=5)\n",
    "print(\"mean cross-validation score: {}\".format(np.mean(cv_score_hog)))"
   ]
  },
  {
   "cell_type": "markdown",
   "metadata": {},
   "source": [
    "2. Analysis for LBP"
   ]
  },
  {
   "cell_type": "code",
   "execution_count": 85,
   "metadata": {},
   "outputs": [
    {
     "name": "stdout",
     "output_type": "stream",
     "text": [
      "accuracy on training data: 1.0\n"
     ]
    }
   ],
   "source": [
    "print(\"accuracy on training data: {}\".format(mlp_lbp.score(trainData_lbp,trainLabels_lbp)))"
   ]
  },
  {
   "cell_type": "code",
   "execution_count": 86,
   "metadata": {},
   "outputs": [
    {
     "name": "stdout",
     "output_type": "stream",
     "text": [
      "accuracy on test data: 0.9235948179128838\n"
     ]
    }
   ],
   "source": [
    "print(\"accuracy on test data: {}\".format(mlp_lbp.score(testData_lbp,testLabels_lbp)))"
   ]
  },
  {
   "cell_type": "code",
   "execution_count": 87,
   "metadata": {},
   "outputs": [
    {
     "name": "stdout",
     "output_type": "stream",
     "text": [
      "accuracy on validation data: 0.9200952057123427\n"
     ]
    }
   ],
   "source": [
    "print(\"accuracy on validation data: {}\".format(mlp_lbp.score(valData_lbp,valLabels_lbp)))"
   ]
  },
  {
   "cell_type": "code",
   "execution_count": 89,
   "metadata": {},
   "outputs": [
    {
     "name": "stdout",
     "output_type": "stream",
     "text": [
      "mean cross-validation score: 0.884637480150168\n"
     ]
    }
   ],
   "source": [
    "cv_score_lbp = cross_val_score(mlp_lbp,testData_lbp,testLabels_lbp,cv=5)\n",
    "print(\"mean cross-validation score: {}\".format(np.mean(cv_score_lbp)))"
   ]
  },
  {
   "cell_type": "markdown",
   "metadata": {},
   "source": [
    "3. Analysis for combine features"
   ]
  },
  {
   "cell_type": "code",
   "execution_count": 27,
   "metadata": {},
   "outputs": [
    {
     "name": "stdout",
     "output_type": "stream",
     "text": [
      "accuracy on training data: 1.0\n"
     ]
    }
   ],
   "source": [
    "print(\"accuracy on training data: {}\".format(mlp_combine.score(trainData_combine,trainLabels_combine)))"
   ]
  },
  {
   "cell_type": "code",
   "execution_count": 28,
   "metadata": {},
   "outputs": [
    {
     "name": "stdout",
     "output_type": "stream",
     "text": [
      "accuracy on test data: 0.9784759767418137\n"
     ]
    }
   ],
   "source": [
    "print(\"accuracy on test data: {}\".format(mlp_combine.score(testData_combine,testLabels_combine)))"
   ]
  },
  {
   "cell_type": "code",
   "execution_count": 29,
   "metadata": {},
   "outputs": [
    {
     "name": "stdout",
     "output_type": "stream",
     "text": [
      "accuracy on validation data: 0.976538592315539\n"
     ]
    }
   ],
   "source": [
    "print(\"accuracy on validation data: {}\".format(mlp_combine.score(valData_combine,valLabels_combine)))"
   ]
  },
  {
   "cell_type": "code",
   "execution_count": 30,
   "metadata": {},
   "outputs": [
    {
     "name": "stdout",
     "output_type": "stream",
     "text": [
      "mean cross-validation score: 0.9636922385522204\n"
     ]
    }
   ],
   "source": [
    "cv_score_combine = cross_val_score(mlp_combine,testData_combine,testLabels_combine,cv=5)\n",
    "print(\"mean cross-validation score: {}\".format(np.mean(cv_score_combine)))"
   ]
  },
  {
   "cell_type": "markdown",
   "metadata": {},
   "source": [
    "### Step 7. Random tests"
   ]
  },
  {
   "cell_type": "code",
   "execution_count": 18,
   "metadata": {},
   "outputs": [],
   "source": [
    "def testing_on_data(feature,model):\n",
    "    n = np.random.randint(0, high=len(testLabels_combine))\n",
    "    test1 =X[n]\n",
    "    t1_true = y[n]\n",
    "\n",
    "    plt.imshow(test1)\n",
    "    plt.show()    \n",
    "\n",
    "    grayim = color.rgb2gray(test1)\n",
    "    grayim = cart_to_log_polar(grayim,0.8)\n",
    "    grayim = transform.resize(grayim,(40,40))\n",
    "    if feature == 'hog':\n",
    "        (H_4x4, hogImage) = extract_HOG(grayim)\n",
    "        if model == 'svm':\n",
    "            t1_predict = svc_hog.predict(H_4x4.reshape(1,-1))\n",
    "        if model == 'mlp':\n",
    "            t1_predict = mlp_hog.predict(H_4x4.reshape(1,-1))\n",
    "    if feature == 'lbp':        \n",
    "        lbp = extract_LBP(grayim)\n",
    "        if model == 'svm':\n",
    "            t1_predict = svc_lbp.predict(lbp.reshape(1,-1))\n",
    "        if model == 'mlp':\n",
    "            t1_predict = mlp_lbp.predict(lbp.reshape(1,-1))\n",
    "    if feature == 'combine':\n",
    "        (H_4x4, hogImage) = extract_HOG(grayim)\n",
    "        lbp = extract_LBP(grayim)\n",
    "        features = np.hstack([H_4x4,lbp])\n",
    "        if model == 'svm':\n",
    "            t1_predict = svc_combine.predict(features.reshape(1,-1))\n",
    "        if model == 'mlp':\n",
    "            t1_predict = mlp_combine.predict(features.reshape(1,-1))\n",
    "    print(\"==========\")\n",
    "    print(\"True :{}\\npredicted:{}\\n\".format(t1_true,t1_predict[0]))\n",
    "    # show the prediction\n",
    "    print(\"I think that belongs to class: {}\".format(t1_predict[0]))\n",
    "    print(\"==========\")\n",
    "#     font = ImageFont.truetype(\"/usr/share/fonts/dejavu/DejaVuSans.ttf\", 10)\n",
    "    img = Image.fromarray(test1)\n",
    "    draw = ImageDraw.Draw(img)\n",
    "    draw.text((0,0), str(t1_predict), (0,255,0))\n",
    "    draw = ImageDraw.Draw(img)\n",
    "    plt.show(img) "
   ]
  },
  {
   "cell_type": "code",
   "execution_count": 22,
   "metadata": {},
   "outputs": [
    {
     "data": {
      "image/png": "[encoded data removed]",
      "text/plain": [
       "<Figure size 432x288 with 1 Axes>"
      ]
     },
     "metadata": {
      "needs_background": "light"
     },
     "output_type": "display_data"
    },
    {
     "name": "stdout",
     "output_type": "stream",
     "text": [
      "==========\n",
      "True :3.0\n",
      "predicted:3.0\n",
      "\n",
      "I think that belongs to class: 3.0\n",
      "==========\n"
     ]
    },
    {
     "data": {
      "image/png": "[encoded data removed]",
      "text/plain": [
       "<Figure size 432x288 with 1 Axes>"
      ]
     },
     "metadata": {
      "needs_background": "light"
     },
     "output_type": "display_data"
    },
    {
     "name": "stdout",
     "output_type": "stream",
     "text": [
      "==========\n",
      "True :3.0\n",
      "predicted:3.0\n",
      "\n",
      "I think that belongs to class: 3.0\n",
      "==========\n"
     ]
    },
    {
     "data": {
      "image/png": "[encoded data removed]",
      "text/plain": [
       "<Figure size 432x288 with 1 Axes>"
      ]
     },
     "metadata": {
      "needs_background": "light"
     },
     "output_type": "display_data"
    },
    {
     "name": "stdout",
     "output_type": "stream",
     "text": [
      "==========\n",
      "True :4.0\n",
      "predicted:4.0\n",
      "\n",
      "I think that belongs to class: 4.0\n",
      "==========\n"
     ]
    },
    {
     "data": {
      "image/png": "[encoded data removed]",
      "text/plain": [
       "<Figure size 432x288 with 1 Axes>"
      ]
     },
     "metadata": {
      "needs_background": "light"
     },
     "output_type": "display_data"
    },
    {
     "name": "stdout",
     "output_type": "stream",
     "text": [
      "==========\n",
      "True :5.0\n",
      "predicted:5.0\n",
      "\n",
      "I think that belongs to class: 5.0\n",
      "==========\n"
     ]
    },
    {
     "data": {
      "image/png": "[encoded data removed]",
      "text/plain": [
       "<Figure size 432x288 with 1 Axes>"
      ]
     },
     "metadata": {
      "needs_background": "light"
     },
     "output_type": "display_data"
    },
    {
     "name": "stdout",
     "output_type": "stream",
     "text": [
      "==========\n",
      "True :5.0\n",
      "predicted:5.0\n",
      "\n",
      "I think that belongs to class: 5.0\n",
      "==========\n"
     ]
    },
    {
     "data": {
      "image/png": "[encoded data removed]",
      "text/plain": [
       "<Figure size 432x288 with 1 Axes>"
      ]
     },
     "metadata": {
      "needs_background": "light"
     },
     "output_type": "display_data"
    },
    {
     "name": "stdout",
     "output_type": "stream",
     "text": [
      "==========\n",
      "True :2.0\n",
      "predicted:1.0\n",
      "\n",
      "I think that belongs to class: 1.0\n",
      "==========\n"
     ]
    },
    {
     "data": {
      "image/png": "[encoded data removed]",
      "text/plain": [
       "<Figure size 432x288 with 1 Axes>"
      ]
     },
     "metadata": {
      "needs_background": "light"
     },
     "output_type": "display_data"
    },
    {
     "name": "stdout",
     "output_type": "stream",
     "text": [
      "==========\n",
      "True :3.0\n",
      "predicted:3.0\n",
      "\n",
      "I think that belongs to class: 3.0\n",
      "==========\n"
     ]
    },
    {
     "data": {
      "image/png": "[encoded data removed]",
      "text/plain": [
       "<Figure size 432x288 with 1 Axes>"
      ]
     },
     "metadata": {
      "needs_background": "light"
     },
     "output_type": "display_data"
    },
    {
     "name": "stdout",
     "output_type": "stream",
     "text": [
      "==========\n",
      "True :1.0\n",
      "predicted:1.0\n",
      "\n",
      "I think that belongs to class: 1.0\n",
      "==========\n"
     ]
    },
    {
     "data": {
      "image/png": "[encoded data removed]",
      "text/plain": [
       "<Figure size 432x288 with 1 Axes>"
      ]
     },
     "metadata": {
      "needs_background": "light"
     },
     "output_type": "display_data"
    },
    {
     "name": "stdout",
     "output_type": "stream",
     "text": [
      "==========\n",
      "True :2.0\n",
      "predicted:2.0\n",
      "\n",
      "I think that belongs to class: 2.0\n",
      "==========\n"
     ]
    },
    {
     "data": {
      "image/png": "[encoded data removed]",
      "text/plain": [
       "<Figure size 432x288 with 1 Axes>"
      ]
     },
     "metadata": {
      "needs_background": "light"
     },
     "output_type": "display_data"
    },
    {
     "name": "stdout",
     "output_type": "stream",
     "text": [
      "==========\n",
      "True :4.0\n",
      "predicted:4.0\n",
      "\n",
      "I think that belongs to class: 4.0\n",
      "==========\n",
      "total time 13.3 seconds\n"
     ]
    }
   ],
   "source": [
    "start_time = datetime.datetime.now()\n",
    "for i in range(10):\n",
    "    testing_on_data(\"combine\",'svm')\n",
    "end_time = datetime.datetime.now()\n",
    "dt = end_time - start_time\n",
    "seconds = dt.total_seconds()\n",
    "t = format_time(seconds)\n",
    "print(\"total time\",t)"
   ]
  },
  {
   "cell_type": "code",
   "execution_count": null,
   "metadata": {},
   "outputs": [],
   "source": []
  }
 ],
 "metadata": {
  "kernelspec": {
   "display_name": "Python 3",
   "language": "python",
   "name": "python3"
  },
  "language_info": {
   "codemirror_mode": {
    "name": "ipython",
    "version": 3
   },
   "file_extension": ".py",
   "mimetype": "text/x-python",
   "name": "python",
   "nbconvert_exporter": "python",
   "pygments_lexer": "ipython3",
   "version": "3.7.1"
  }
 },
 "nbformat": 4,
 "nbformat_minor": 2
}
